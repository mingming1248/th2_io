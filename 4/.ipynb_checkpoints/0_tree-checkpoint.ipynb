{
 "cells": [
  {
   "cell_type": "code",
   "execution_count": 1,
   "metadata": {},
   "outputs": [
    {
     "data": {
      "text/html": [
       "<div>\n",
       "<style scoped>\n",
       "    .dataframe tbody tr th:only-of-type {\n",
       "        vertical-align: middle;\n",
       "    }\n",
       "\n",
       "    .dataframe tbody tr th {\n",
       "        vertical-align: top;\n",
       "    }\n",
       "\n",
       "    .dataframe thead th {\n",
       "        text-align: right;\n",
       "    }\n",
       "</style>\n",
       "<table border=\"1\" class=\"dataframe\">\n",
       "  <thead>\n",
       "    <tr style=\"text-align: right;\">\n",
       "      <th></th>\n",
       "      <th>Unnamed: 0</th>\n",
       "      <th>file</th>\n",
       "      <th>per_request</th>\n",
       "      <th>sequential</th>\n",
       "      <th>requests_byte</th>\n",
       "      <th>inter_time</th>\n",
       "    </tr>\n",
       "    <tr>\n",
       "      <th>0</th>\n",
       "      <th></th>\n",
       "      <th></th>\n",
       "      <th></th>\n",
       "      <th></th>\n",
       "      <th></th>\n",
       "      <th></th>\n",
       "    </tr>\n",
       "  </thead>\n",
       "  <tbody>\n",
       "    <tr>\n",
       "      <th>mlf</th>\n",
       "      <td>93</td>\n",
       "      <td>93</td>\n",
       "      <td>93</td>\n",
       "      <td>93</td>\n",
       "      <td>93</td>\n",
       "      <td>93</td>\n",
       "    </tr>\n",
       "    <tr>\n",
       "      <th>sjf</th>\n",
       "      <td>2722</td>\n",
       "      <td>2722</td>\n",
       "      <td>2722</td>\n",
       "      <td>2722</td>\n",
       "      <td>2722</td>\n",
       "      <td>2722</td>\n",
       "    </tr>\n",
       "    <tr>\n",
       "      <th>to</th>\n",
       "      <td>240</td>\n",
       "      <td>240</td>\n",
       "      <td>240</td>\n",
       "      <td>240</td>\n",
       "      <td>240</td>\n",
       "      <td>240</td>\n",
       "    </tr>\n",
       "    <tr>\n",
       "      <th>twins</th>\n",
       "      <td>70</td>\n",
       "      <td>70</td>\n",
       "      <td>70</td>\n",
       "      <td>70</td>\n",
       "      <td>70</td>\n",
       "      <td>70</td>\n",
       "    </tr>\n",
       "  </tbody>\n",
       "</table>\n",
       "</div>"
      ],
      "text/plain": [
       "       Unnamed: 0  file  per_request  sequential  requests_byte  inter_time\n",
       "0                                                                          \n",
       "mlf            93    93           93          93             93          93\n",
       "sjf          2722  2722         2722        2722           2722        2722\n",
       "to            240   240          240         240            240         240\n",
       "twins          70    70           70          70             70          70"
      ]
     },
     "execution_count": 1,
     "metadata": {},
     "output_type": "execute_result"
    }
   ],
   "source": [
    "import pandas as pd\n",
    "learn_data=pd.read_csv(\"learn_data.csv\") #读取处理好的数据\n",
    "learn_data.groupby([\"0\"]).count() #查看每种算法最好时适用于多少种情况"
   ]
  },
  {
   "cell_type": "code",
   "execution_count": 2,
   "metadata": {},
   "outputs": [
    {
     "data": {
      "text/html": [
       "<div>\n",
       "<style scoped>\n",
       "    .dataframe tbody tr th:only-of-type {\n",
       "        vertical-align: middle;\n",
       "    }\n",
       "\n",
       "    .dataframe tbody tr th {\n",
       "        vertical-align: top;\n",
       "    }\n",
       "\n",
       "    .dataframe thead th {\n",
       "        text-align: right;\n",
       "    }\n",
       "</style>\n",
       "<table border=\"1\" class=\"dataframe\">\n",
       "  <thead>\n",
       "    <tr style=\"text-align: right;\">\n",
       "      <th></th>\n",
       "      <th>Unnamed: 0</th>\n",
       "      <th>file</th>\n",
       "      <th>per_request</th>\n",
       "      <th>sequential</th>\n",
       "      <th>requests_byte</th>\n",
       "      <th>inter_time</th>\n",
       "    </tr>\n",
       "    <tr>\n",
       "      <th>0</th>\n",
       "      <th></th>\n",
       "      <th></th>\n",
       "      <th></th>\n",
       "      <th></th>\n",
       "      <th></th>\n",
       "      <th></th>\n",
       "    </tr>\n",
       "  </thead>\n",
       "  <tbody>\n",
       "    <tr>\n",
       "      <th>0</th>\n",
       "      <td>2722</td>\n",
       "      <td>2722</td>\n",
       "      <td>2722</td>\n",
       "      <td>2722</td>\n",
       "      <td>2722</td>\n",
       "      <td>2722</td>\n",
       "    </tr>\n",
       "    <tr>\n",
       "      <th>1</th>\n",
       "      <td>240</td>\n",
       "      <td>240</td>\n",
       "      <td>240</td>\n",
       "      <td>240</td>\n",
       "      <td>240</td>\n",
       "      <td>240</td>\n",
       "    </tr>\n",
       "    <tr>\n",
       "      <th>2</th>\n",
       "      <td>70</td>\n",
       "      <td>70</td>\n",
       "      <td>70</td>\n",
       "      <td>70</td>\n",
       "      <td>70</td>\n",
       "      <td>70</td>\n",
       "    </tr>\n",
       "    <tr>\n",
       "      <th>3</th>\n",
       "      <td>93</td>\n",
       "      <td>93</td>\n",
       "      <td>93</td>\n",
       "      <td>93</td>\n",
       "      <td>93</td>\n",
       "      <td>93</td>\n",
       "    </tr>\n",
       "  </tbody>\n",
       "</table>\n",
       "</div>"
      ],
      "text/plain": [
       "   Unnamed: 0  file  per_request  sequential  requests_byte  inter_time\n",
       "0                                                                      \n",
       "0        2722  2722         2722        2722           2722        2722\n",
       "1         240   240          240         240            240         240\n",
       "2          70    70           70          70             70          70\n",
       "3          93    93           93          93             93          93"
      ]
     },
     "execution_count": 2,
     "metadata": {},
     "output_type": "execute_result"
    }
   ],
   "source": [
    "#sklearn不能处理非数字，先转换一下\n",
    "target_list=learn_data[\"0\"].unique().tolist()\n",
    "learn_data[\"0\"] = learn_data[\"0\"].apply(lambda x: target_list.index(x)) #用列表下标代替对应的字符\n",
    "learn_data.groupby([\"0\"]).count() #查看每种算法最好时适用于多少种情况"
   ]
  },
  {
   "cell_type": "code",
   "execution_count": 3,
   "metadata": {},
   "outputs": [],
   "source": [
    "#另一种处理方法，内置的labelencoder\n",
    "# from sklearn.preprocessing import LabelEncoder\n",
    "# labelencoder = LabelEncoder()#将mlf、sjf转化成0、1数字\n",
    "# learn_data[\"0\"] = labelencoder.fit_transform(learn_data[\"0\"])\n",
    "# learn_data\n",
    "# learn_data.groupby([\"0\"]).count() #['sjf', 'to', 'twins', 'mlf']对应0123"
   ]
  },
  {
   "cell_type": "code",
   "execution_count": 4,
   "metadata": {},
   "outputs": [],
   "source": [
    "X_data=learn_data[[\"file\",\"per_request\",\"sequential\",\"requests_byte\",\"inter_time\"]]\n",
    "y_data=learn_data[\"0\"]\n",
    "\n",
    "from sklearn.preprocessing import StandardScaler\n",
    "scaler_x=StandardScaler()\n",
    "\n",
    "X_data=scaler_x.fit_transform(X_data) #标准化，把2000缩放一下"
   ]
  },
  {
   "cell_type": "code",
   "execution_count": 5,
   "metadata": {},
   "outputs": [],
   "source": [
    "from sklearn.model_selection import train_test_split #划分训练集和测试集\n",
    "\n",
    "X_train,X_test,y_train,y_test=train_test_split(X_data,y_data,test_size=0.3)"
   ]
  },
  {
   "cell_type": "code",
   "execution_count": 6,
   "metadata": {},
   "outputs": [
    {
     "data": {
      "text/plain": [
       "array([[ 0.60858062, -0.40327957,  0.70710678, -0.69571928, -0.31283135],\n",
       "       [-1.21716124, -0.76989735, -0.70710678, -0.5404248 , -0.31283135],\n",
       "       [-0.91287093, -0.76989735,  0.70710678, -0.69571928, -0.31283135],\n",
       "       ...,\n",
       "       [ 0.        , -0.40327957,  0.70710678, -0.5404248 ,  1.99078685],\n",
       "       [-0.91287093, -0.40327957,  1.41421356, -0.66466038, -0.56853297],\n",
       "       [-0.91287093, -0.76989735,  1.41421356, -0.66466038, -0.31283135]])"
      ]
     },
     "execution_count": 6,
     "metadata": {},
     "output_type": "execute_result"
    }
   ],
   "source": [
    "X_train"
   ]
  },
  {
   "cell_type": "code",
   "execution_count": 7,
   "metadata": {},
   "outputs": [
    {
     "data": {
      "text/plain": [
       "array([[-0.91287093, -0.40327957,  0.70710678, -0.69571928, -0.54319317],\n",
       "       [-0.91287093, -0.40327957,  0.70710678, -0.04348245,  1.99078685],\n",
       "       [-0.91287093, -0.95320625,  0.        , -0.66466038,  1.99078685],\n",
       "       ...,\n",
       "       [ 0.60858062,  1.79642716, -0.70710678, -0.66466038, -0.56853297],\n",
       "       [-0.91287093, -0.76989735, -1.41421356,  1.94428691, -0.54319317],\n",
       "       [-0.91287093, -0.76989735,  0.70710678, -0.66466038, -0.31283135]])"
      ]
     },
     "execution_count": 7,
     "metadata": {},
     "output_type": "execute_result"
    }
   ],
   "source": [
    "X_test"
   ]
  },
  {
   "cell_type": "code",
   "execution_count": 8,
   "metadata": {},
   "outputs": [
    {
     "data": {
      "text/plain": [
       "2203    0\n",
       "163     0\n",
       "828     0\n",
       "300     0\n",
       "1607    0\n",
       "       ..\n",
       "93      2\n",
       "1579    0\n",
       "1589    0\n",
       "980     0\n",
       "858     1\n",
       "Name: 0, Length: 2187, dtype: int64"
      ]
     },
     "execution_count": 8,
     "metadata": {},
     "output_type": "execute_result"
    }
   ],
   "source": [
    "y_train"
   ]
  },
  {
   "cell_type": "code",
   "execution_count": 9,
   "metadata": {},
   "outputs": [
    {
     "data": {
      "text/plain": [
       "952     0\n",
       "969     1\n",
       "684     0\n",
       "2625    3\n",
       "257     0\n",
       "       ..\n",
       "1385    0\n",
       "2770    0\n",
       "2405    0\n",
       "772     0\n",
       "833     0\n",
       "Name: 0, Length: 938, dtype: int64"
      ]
     },
     "execution_count": 9,
     "metadata": {},
     "output_type": "execute_result"
    }
   ],
   "source": [
    "y_test"
   ]
  },
  {
   "cell_type": "code",
   "execution_count": 14,
   "metadata": {},
   "outputs": [
    {
     "name": "stdout",
     "output_type": "stream",
     "text": [
      "tree: 0.814498933901919\n"
     ]
    }
   ],
   "source": [
    "from sklearn.tree import DecisionTreeClassifier\n",
    "from sklearn.model_selection import train_test_split #划分训练集和测试集\n",
    "\n",
    "X_train,X_test,y_train,y_test=train_test_split(X_data,y_data,test_size=0.3)\n",
    "\n",
    "clf=DecisionTreeClassifier(random_state=0) #随机种子\n",
    "clf=clf.fit(X_train,y_train)\n",
    "score_c=clf.score(X_test,y_test)\n",
    "\n",
    "print(\"tree:\",score_c)"
   ]
  },
  {
   "cell_type": "code",
   "execution_count": null,
   "metadata": {},
   "outputs": [],
   "source": [
    "from sklearn import tree\n",
    "dot_data = tree.export_graphviz(clf, out_file=\"Tree_clf.dot\" #graphviz结果保存一下\n",
    "                           ,feature_names=[\"file\",\"per_request\",\"sequential\",\"requests_byte\",\"inter_time\"]\n",
    "                           ,class_names=['sjf', 'to', 'twins', 'mlf'] #对应0123\n",
    "                           ,filled=True #决策树节点是否显示颜色，颜色越深分类越明确\n",
    "                           ,rounded=True #决策树节点的方框是圆的还是方的,\n",
    "                          )"
   ]
  },
  {
   "cell_type": "code",
   "execution_count": 12,
   "metadata": {},
   "outputs": [
    {
     "name": "stdout",
     "output_type": "stream",
     "text": [
      "0.8815822546185748 3\n"
     ]
    },
    {
     "data": {
      "image/png": "[encoded data removed]",
      "text/plain": [
       "<Figure size 432x288 with 1 Axes>"
      ]
     },
     "metadata": {
      "needs_background": "light"
     },
     "output_type": "display_data"
    }
   ],
   "source": [
    "from sklearn.model_selection import cross_val_score\n",
    "import matplotlib.pyplot as plt\n",
    "\n",
    "score_list= []\n",
    "for i in range(20):\n",
    "    clf = DecisionTreeClassifier(max_depth=i+1) #用不同的决策树深度看一下效果\n",
    "    score=cross_val_score(clf,X_train,y_train,cv=10).mean()\n",
    "    score_list.append(score)\n",
    "    \n",
    "print(max(score_list),score_list.index(max(score_list))+1)\n",
    "plt.plot(range(1,21),score_list,label=\"train\")\n",
    "plt.xticks(range(1,21))\n",
    "plt.legend()\n",
    "plt.show() #在深度较浅时能获得最好的结果，大概在5或6比较好"
   ]
  },
  {
   "cell_type": "code",
   "execution_count": 13,
   "metadata": {},
   "outputs": [
    {
     "name": "stdout",
     "output_type": "stream",
     "text": [
      "{'criterion': 'gini', 'max_depth': 8, 'min_impurity_decrease': 0.0, 'min_samples_leaf': 11, 'splitter': 'random'}\n",
      "0.8829563068158016\n"
     ]
    }
   ],
   "source": [
    "from sklearn.model_selection import GridSearchCV\n",
    "import numpy as np\n",
    "gini_thresholds = np.linspace(0,0.5,20)\n",
    "\n",
    "parameters = {'splitter':('best','random') #使用网格搜索获取最好分类时的参数\n",
    "              ,'criterion':(\"gini\",\"entropy\")\n",
    "              ,\"max_depth\":[*range(3,10)] #大概在5-6比较好，不过可以多搜索一下左右的结果\n",
    "              ,'min_samples_leaf':[*range(1,50,5)]\n",
    "              ,'min_impurity_decrease':[*np.linspace(0,0.5,20)]\n",
    "             }\n",
    "\n",
    "clf = DecisionTreeClassifier()\n",
    "GS = GridSearchCV(clf, parameters, cv=10)\n",
    "GS.fit(X_train,y_train)\n",
    "\n",
    "print(GS.best_params_) #准确率最高时的参数\n",
    "print(GS.best_score_) #准确率最高时的分数"
   ]
  },
  {
   "cell_type": "code",
   "execution_count": null,
   "metadata": {},
   "outputs": [],
   "source": [
    "final_model = DecisionTreeClassifier(max_depth=GS.best_params_[\"max_depth\"]\n",
    "                                     ,criterion=GS.best_params_[\"criterion\"]\n",
    "                                     ,min_impurity_decrease=GS.best_params_[\"min_impurity_decrease\"]\n",
    "                                     ,min_samples_leaf=GS.best_params_[\"min_samples_leaf\"]\n",
    "                                     ,splitter=GS.best_params_[\"splitter\"]\n",
    "                                    )\n",
    "final_model.fit(X_train,y_train)\n",
    "final_model.score(X_test,y_test) #用最高准确率的参数再测试一下"
   ]
  },
  {
   "cell_type": "code",
   "execution_count": null,
   "metadata": {},
   "outputs": [],
   "source": [
    "for feature,importance in zip([\"file\",\"per_request\",\"sequential\",\"requests_byte\",\"inter_time\"],final_model.feature_importances_):\n",
    "    print(feature,importance) #查看每种变量对结果的影响，没有超多30%的"
   ]
  },
  {
   "cell_type": "code",
   "execution_count": null,
   "metadata": {},
   "outputs": [],
   "source": [
    "from sklearn import tree\n",
    "dot_data = tree.export_graphviz(final_model, out_file=\"Tree.dot\" #graphviz结果保存一下\n",
    "                           ,feature_names=[\"file\",\"per_request\",\"sequential\",\"requests_byte\",\"inter_time\"]\n",
    "                           ,class_names=['sjf', 'to', 'twins', 'mlf'] #对应0123\n",
    "                           ,filled=True #决策树节点是否显示颜色，颜色越深分类越明确\n",
    "                           ,rounded=True #决策树节点的方框是圆的还是方的,\n",
    "                          )\n"
   ]
  },
  {
   "cell_type": "code",
   "execution_count": null,
   "metadata": {
    "scrolled": false
   },
   "outputs": [],
   "source": [
    "from graphviz import Source #用于绘制决策树的图像\n",
    "\n",
    "with open(\"Tree.dot\",\"r\") as f:\n",
    "    dot=f.read()\n",
    "    \n",
    "picture = Source(dot)\n",
    "picture\n"
   ]
  },
  {
   "cell_type": "code",
   "execution_count": 63,
   "metadata": {},
   "outputs": [
    {
     "data": {
      "text/plain": [
       "array([0, 1, 2, 3], dtype=int64)"
      ]
     },
     "execution_count": 63,
     "metadata": {},
     "output_type": "execute_result"
    }
   ],
   "source": [
    "#模型的其他属性\n",
    "final_model.classes_"
   ]
  },
  {
   "cell_type": "code",
   "execution_count": 64,
   "metadata": {},
   "outputs": [
    {
     "data": {
      "text/plain": [
       "{'ccp_alpha': 0.0,\n",
       " 'class_weight': None,\n",
       " 'criterion': 'entropy',\n",
       " 'max_depth': 4,\n",
       " 'max_features': None,\n",
       " 'max_leaf_nodes': None,\n",
       " 'min_impurity_decrease': 0.0,\n",
       " 'min_impurity_split': None,\n",
       " 'min_samples_leaf': 16,\n",
       " 'min_samples_split': 2,\n",
       " 'min_weight_fraction_leaf': 0.0,\n",
       " 'presort': 'deprecated',\n",
       " 'random_state': None,\n",
       " 'splitter': 'best'}"
      ]
     },
     "execution_count": 64,
     "metadata": {},
     "output_type": "execute_result"
    }
   ],
   "source": [
    "final_model.get_params() #查看传入的所有参数"
   ]
  },
  {
   "cell_type": "code",
   "execution_count": null,
   "metadata": {},
   "outputs": [],
   "source": []
  }
 ],
 "metadata": {
  "kernelspec": {
   "display_name": "Python 3",
   "language": "python",
   "name": "python3"
  },
  "language_info": {
   "codemirror_mode": {
    "name": "ipython",
    "version": 3
   },
   "file_extension": ".py",
   "mimetype": "text/x-python",
   "name": "python",
   "nbconvert_exporter": "python",
   "pygments_lexer": "ipython3",
   "version": "3.7.7"
  }
 },
 "nbformat": 4,
 "nbformat_minor": 4
}
