{
 "cells": [
  {
   "cell_type": "code",
   "execution_count": 25,
   "metadata": {},
   "outputs": [],
   "source": [
    "from sklearn.tree import DecisionTreeClassifier\n",
    "from sklearn.ensemble import RandomForestClassifier\n",
    "import pandas as pd"
   ]
  },
  {
   "cell_type": "code",
   "execution_count": 26,
   "metadata": {},
   "outputs": [
    {
     "data": {
      "text/html": [
       "<div>\n",
       "<style scoped>\n",
       "    .dataframe tbody tr th:only-of-type {\n",
       "        vertical-align: middle;\n",
       "    }\n",
       "\n",
       "    .dataframe tbody tr th {\n",
       "        vertical-align: top;\n",
       "    }\n",
       "\n",
       "    .dataframe thead th {\n",
       "        text-align: right;\n",
       "    }\n",
       "</style>\n",
       "<table border=\"1\" class=\"dataframe\">\n",
       "  <thead>\n",
       "    <tr style=\"text-align: right;\">\n",
       "      <th></th>\n",
       "      <th>Unnamed: 0</th>\n",
       "      <th>file</th>\n",
       "      <th>per_request</th>\n",
       "      <th>sequential</th>\n",
       "      <th>requests_byte</th>\n",
       "      <th>inter_time</th>\n",
       "    </tr>\n",
       "    <tr>\n",
       "      <th>0</th>\n",
       "      <th></th>\n",
       "      <th></th>\n",
       "      <th></th>\n",
       "      <th></th>\n",
       "      <th></th>\n",
       "      <th></th>\n",
       "    </tr>\n",
       "  </thead>\n",
       "  <tbody>\n",
       "    <tr>\n",
       "      <th>0</th>\n",
       "      <td>2722</td>\n",
       "      <td>2722</td>\n",
       "      <td>2722</td>\n",
       "      <td>2722</td>\n",
       "      <td>2722</td>\n",
       "      <td>2722</td>\n",
       "    </tr>\n",
       "    <tr>\n",
       "      <th>1</th>\n",
       "      <td>240</td>\n",
       "      <td>240</td>\n",
       "      <td>240</td>\n",
       "      <td>240</td>\n",
       "      <td>240</td>\n",
       "      <td>240</td>\n",
       "    </tr>\n",
       "    <tr>\n",
       "      <th>2</th>\n",
       "      <td>70</td>\n",
       "      <td>70</td>\n",
       "      <td>70</td>\n",
       "      <td>70</td>\n",
       "      <td>70</td>\n",
       "      <td>70</td>\n",
       "    </tr>\n",
       "    <tr>\n",
       "      <th>3</th>\n",
       "      <td>93</td>\n",
       "      <td>93</td>\n",
       "      <td>93</td>\n",
       "      <td>93</td>\n",
       "      <td>93</td>\n",
       "      <td>93</td>\n",
       "    </tr>\n",
       "  </tbody>\n",
       "</table>\n",
       "</div>"
      ],
      "text/plain": [
       "   Unnamed: 0  file  per_request  sequential  requests_byte  inter_time\n",
       "0                                                                      \n",
       "0        2722  2722         2722        2722           2722        2722\n",
       "1         240   240          240         240            240         240\n",
       "2          70    70           70          70             70          70\n",
       "3          93    93           93          93             93          93"
      ]
     },
     "execution_count": 26,
     "metadata": {},
     "output_type": "execute_result"
    }
   ],
   "source": [
    "learn_data=pd.read_csv(\"learn_data.csv\") #读取处理好的数据\n",
    "target_list=learn_data[\"0\"].unique().tolist()#sklearn不能处理非数字，先转换一下\n",
    "learn_data[\"0\"] = learn_data[\"0\"].apply(lambda x: target_list.index(x)) #用列表下标代替对应的字符\n",
    "learn_data.groupby([\"0\"]).count() #查看每种算法最好时适用于多少种情况"
   ]
  },
  {
   "cell_type": "code",
   "execution_count": 27,
   "metadata": {},
   "outputs": [],
   "source": [
    "X_data=learn_data[[\"file\",\"per_request\",\"sequential\",\"requests_byte\",\"inter_time\"]]\n",
    "y_data=learn_data[\"0\"]\n",
    "\n",
    "from sklearn.preprocessing import StandardScaler\n",
    "scaler_x=StandardScaler()\n",
    "\n",
    "X_data=scaler_x.fit_transform(X_data) #标准化，把2000缩放一下"
   ]
  },
  {
   "cell_type": "code",
   "execution_count": 31,
   "metadata": {},
   "outputs": [
    {
     "name": "stdout",
     "output_type": "stream",
     "text": [
      "tree: 0.8102345415778252\n",
      "forest: 0.8869936034115139\n"
     ]
    }
   ],
   "source": [
    "from sklearn.model_selection import train_test_split #划分训练集和测试集\n",
    "\n",
    "X_train,X_test,y_train,y_test=train_test_split(X_data,y_data,test_size=0.3)\n",
    "\n",
    "clf=DecisionTreeClassifier(random_state=0) #随机种子\n",
    "clf=clf.fit(X_train,y_train)\n",
    "score_c=clf.score(X_test,y_test)\n",
    "\n",
    "rfc=RandomForestClassifier(random_state=0)\n",
    "rfc=rfc.fit(X_train,y_train)\n",
    "score_r=rfc.score(X_test,y_test)\n",
    "\n",
    "print(\"tree:\",score_c)\n",
    "print( \"forest:\",score_r)\n",
    "#在都不指定参数的情况下，随机森林要好于决策树"
   ]
  },
  {
   "cell_type": "code",
   "execution_count": 32,
   "metadata": {},
   "outputs": [
    {
     "data": {
      "text/plain": [
       "0.8795309168443497"
      ]
     },
     "execution_count": 32,
     "metadata": {},
     "output_type": "execute_result"
    }
   ],
   "source": [
    "final_model = DecisionTreeClassifier(max_depth=4\n",
    "                                     ,min_impurity_decrease=0\n",
    "                                     ,min_samples_leaf=16\n",
    "                                     ,splitter=\"best\"\n",
    "                                    )\n",
    "final_model.fit(X_train,y_train)\n",
    "final_model.score(X_test,y_test) #用最高准确率的决策树时也可以达到很好的效果，上面的参数时决策时网络搜索的结果"
   ]
  },
  {
   "cell_type": "code",
   "execution_count": 33,
   "metadata": {},
   "outputs": [
    {
     "data": {
      "image/png": "[encoded data removed]",
      "text/plain": [
       "<Figure size 432x288 with 1 Axes>"
      ]
     },
     "metadata": {
      "needs_background": "light"
     },
     "output_type": "display_data"
    }
   ],
   "source": [
    "from sklearn.model_selection import cross_val_score #交叉验证\n",
    "import matplotlib.pylab as plt\n",
    "#交叉验证：是数据集划分为n分，依次取每一份做测试集，每n-1份做训练集，多次训练模型以观测模型稳定性的方法\n",
    "\n",
    "rfc=RandomForestClassifier(n_estimators=100)\n",
    "rfc_s=cross_val_score(rfc,X_train,y_train,cv=10) #返回的是10个分数组成的列表\n",
    "clf=DecisionTreeClassifier()\n",
    "clf_s=cross_val_score(clf,X_train,y_train,cv=10)\n",
    "\n",
    "plt.plot(range(1,11),rfc_s,label=\"randomforest\")\n",
    "plt.plot(range(1,11),clf_s,label=\"decisiontree\")\n",
    "plt.legend()\n",
    "plt.show() #不指定参数时随机森林的结果好于决策树"
   ]
  },
  {
   "cell_type": "code",
   "execution_count": 34,
   "metadata": {},
   "outputs": [],
   "source": [
    "supera=[]\n",
    "for i in range(0,200,10): #用1-200，每隔10个，不同数量的决策树组成随机森林时的效果对比，类似于学习曲线\n",
    "    rfc=RandomForestClassifier(n_estimators=i+1,n_jobs=-1)\n",
    "    rfc_s=cross_val_score(rfc,X_train,y_train,cv=10).mean()\n",
    "    supera.append(rfc_s)"
   ]
  },
  {
   "cell_type": "code",
   "execution_count": 35,
   "metadata": {},
   "outputs": [
    {
     "data": {
      "text/plain": [
       "[0.803826819152947,\n",
       " 0.8632713334171169,\n",
       " 0.8632776171924093,\n",
       " 0.8724163210590256,\n",
       " 0.8701311214444305,\n",
       " 0.8715072682334213,\n",
       " 0.8724184156507896,\n",
       " 0.8710653093712036,\n",
       " 0.8710548364123832,\n",
       " 0.8737945624397805,\n",
       " 0.8737966570315445,\n",
       " 0.8756336140086297,\n",
       " 0.8710506472288552,\n",
       " 0.8760881404214318,\n",
       " 0.874711993632441,\n",
       " 0.8715072682334213,\n",
       " 0.876542666834234,\n",
       " 0.8738050353986008,\n",
       " 0.8719722676050438,\n",
       " 0.879278203678103]"
      ]
     },
     "execution_count": 35,
     "metadata": {},
     "output_type": "execute_result"
    }
   ],
   "source": [
    "supera"
   ]
  },
  {
   "cell_type": "code",
   "execution_count": 36,
   "metadata": {},
   "outputs": [
    {
     "name": "stdout",
     "output_type": "stream",
     "text": [
      "0.879278203678103 191\n"
     ]
    },
    {
     "data": {
      "image/png": "[encoded data removed]",
      "text/plain": [
       "<Figure size 1440x360 with 1 Axes>"
      ]
     },
     "metadata": {
      "needs_background": "light"
     },
     "output_type": "display_data"
    }
   ],
   "source": [
    "print(max(supera),supera.index(max(supera))*10+1) #找到最好的结果，以及取得最好结果时决策树的个数，需要加1，因为列表的下标从0开始\n",
    "\n",
    "plt.figure(figsize=[20,5])\n",
    "plt.plot(range(1,201,10),supera)\n",
    "plt.show()"
   ]
  },
  {
   "cell_type": "code",
   "execution_count": 37,
   "metadata": {},
   "outputs": [
    {
     "data": {
      "image/png": "[encoded data removed]",
      "text/plain": [
       "<Figure size 432x288 with 1 Axes>"
      ]
     },
     "metadata": {
      "needs_background": "light"
     },
     "output_type": "display_data"
    }
   ],
   "source": [
    "rfc_l=[]\n",
    "clf_l=[]\n",
    "\n",
    "for i in range(10): #进行10轮交叉验证，对比随机森林和决策树的效果\n",
    "    rfc=RandomForestClassifier(n_estimators=191)\n",
    "    rfc_s=cross_val_score(rfc,X_train,y_train,cv=10).mean()\n",
    "    rfc_l.append(rfc_s)\n",
    "    \n",
    "    clf=DecisionTreeClassifier()\n",
    "    clf_s=cross_val_score(clf,X_train,y_train,cv=10).mean()\n",
    "    clf_l.append(clf_s)\n",
    "\n",
    "plt.plot(range(1,11),rfc_l,label=\"randomforest\")\n",
    "plt.plot(range(1,11),clf_l,label=\"decisiontree\")\n",
    "plt.legend()\n",
    "plt.show()"
   ]
  },
  {
   "cell_type": "code",
   "execution_count": null,
   "metadata": {},
   "outputs": [],
   "source": []
  }
 ],
 "metadata": {
  "kernelspec": {
   "display_name": "Python 3",
   "language": "python",
   "name": "python3"
  },
  "language_info": {
   "codemirror_mode": {
    "name": "ipython",
    "version": 3
   },
   "file_extension": ".py",
   "mimetype": "text/x-python",
   "name": "python",
   "nbconvert_exporter": "python",
   "pygments_lexer": "ipython3",
   "version": "3.7.7"
  }
 },
 "nbformat": 4,
 "nbformat_minor": 4
}
